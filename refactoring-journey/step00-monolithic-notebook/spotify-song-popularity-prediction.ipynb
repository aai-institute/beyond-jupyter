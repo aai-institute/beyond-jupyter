{
 "metadata": {
  "kernelspec": {
   "language": "python",
   "display_name": "Python 3",
   "name": "python3"
  },
  "language_info": {
   "pygments_lexer": "ipython3",
   "nbconvert_exporter": "python",
   "version": "3.6.4",
   "file_extension": ".py",
   "codemirror_mode": {
    "name": "ipython",
    "version": 3
   },
   "name": "python",
   "mimetype": "text/x-python"
  }
 },
 "nbformat_minor": 4,
 "nbformat": 4,
 "cells": [
  {
   "cell_type": "code",
   "source": [
    "#importing necessary libraries and packages\n",
    "import os\n",
    "import pandas as pd\n",
    "import seaborn as sns\n"
   ],
   "metadata": {
    "execution": {
     "iopub.status.busy": "2023-07-10T22:19:00.503064Z",
     "iopub.execute_input": "2023-07-10T22:19:00.503473Z",
     "iopub.status.idle": "2023-07-10T22:19:01.271626Z",
     "shell.execute_reply.started": "2023-07-10T22:19:00.503442Z",
     "shell.execute_reply": "2023-07-10T22:19:01.270779Z"
    },
    "trusted": true
   },
   "execution_count": null,
   "outputs": []
  },
  {
   "cell_type": "code",
   "source": [
    "#loading the spotify 1 million songs data set\n",
    "data_path = os.path.join(os.getcwd(), \"..\", \"..\", \"data\", \"spotify_data.csv\")\n",
    "spotify_tracks = pd.read_csv(data_path)"
   ],
   "metadata": {
    "execution": {
     "iopub.status.busy": "2023-07-10T22:19:53.646807Z",
     "iopub.execute_input": "2023-07-10T22:19:53.647191Z",
     "iopub.status.idle": "2023-07-10T22:20:03.408821Z",
     "shell.execute_reply.started": "2023-07-10T22:19:53.64716Z",
     "shell.execute_reply": "2023-07-10T22:20:03.407748Z"
    },
    "trusted": true
   },
   "execution_count": null,
   "outputs": []
  },
  {
   "cell_type": "code",
   "source": [
    "#getting a overview of dataset\n",
    "spotify_tracks.head()"
   ],
   "metadata": {
    "execution": {
     "iopub.status.busy": "2023-07-10T22:20:30.188484Z",
     "iopub.execute_input": "2023-07-10T22:20:30.189483Z",
     "iopub.status.idle": "2023-07-10T22:20:30.22177Z",
     "shell.execute_reply.started": "2023-07-10T22:20:30.189444Z",
     "shell.execute_reply": "2023-07-10T22:20:30.220801Z"
    },
    "trusted": true
   },
   "execution_count": null,
   "outputs": []
  },
  {
   "cell_type": "code",
   "source": [
    "#getting information about data types in dataset\n",
    "spotify_tracks.info()"
   ],
   "metadata": {
    "execution": {
     "iopub.status.busy": "2023-07-10T22:20:47.9482Z",
     "iopub.execute_input": "2023-07-10T22:20:47.948561Z",
     "iopub.status.idle": "2023-07-10T22:20:49.438401Z",
     "shell.execute_reply.started": "2023-07-10T22:20:47.948532Z",
     "shell.execute_reply": "2023-07-10T22:20:49.437043Z"
    },
    "trusted": true
   },
   "execution_count": null,
   "outputs": []
  },
  {
   "cell_type": "code",
   "source": [
    "#statistical overview of data\n",
    "spotify_tracks.describe()"
   ],
   "metadata": {
    "execution": {
     "iopub.status.busy": "2023-07-10T22:21:10.969363Z",
     "iopub.execute_input": "2023-07-10T22:21:10.970075Z",
     "iopub.status.idle": "2023-07-10T22:21:11.650408Z",
     "shell.execute_reply.started": "2023-07-10T22:21:10.970038Z",
     "shell.execute_reply": "2023-07-10T22:21:11.649393Z"
    },
    "trusted": true
   },
   "execution_count": null,
   "outputs": []
  },
  {
   "cell_type": "code",
   "source": [
    "%matplotlib inline\n",
    "import matplotlib.pyplot as plt"
   ],
   "metadata": {
    "execution": {
     "iopub.status.busy": "2023-07-10T22:21:36.688008Z",
     "iopub.execute_input": "2023-07-10T22:21:36.688937Z",
     "iopub.status.idle": "2023-07-10T22:21:36.694345Z",
     "shell.execute_reply.started": "2023-07-10T22:21:36.688899Z",
     "shell.execute_reply": "2023-07-10T22:21:36.693205Z"
    },
    "trusted": true
   },
   "execution_count": null,
   "outputs": []
  },
  {
   "cell_type": "code",
   "source": [
    "#plotting histogram for all the columns/features of data\n",
    "spotify_tracks.hist(bins=50, figsize=(20, 15))"
   ],
   "metadata": {
    "execution": {
     "iopub.status.busy": "2023-07-10T22:22:03.968437Z",
     "iopub.execute_input": "2023-07-10T22:22:03.969683Z",
     "iopub.status.idle": "2023-07-10T22:22:09.585159Z",
     "shell.execute_reply.started": "2023-07-10T22:22:03.969621Z",
     "shell.execute_reply": "2023-07-10T22:22:09.583999Z"
    },
    "trusted": true
   },
   "execution_count": null,
   "outputs": []
  },
  {
   "cell_type": "code",
   "source": [
    "#adding a new column in data set duration_mins by diving duration_ms (duration milliseconds) by 60000\n",
    "spotify_tracks['duration_mins'] = spotify_tracks['duration_ms'] / 60000"
   ],
   "metadata": {
    "execution": {
     "iopub.status.busy": "2023-07-10T22:22:32.199652Z",
     "iopub.execute_input": "2023-07-10T22:22:32.200025Z",
     "iopub.status.idle": "2023-07-10T22:22:32.208887Z",
     "shell.execute_reply.started": "2023-07-10T22:22:32.199988Z",
     "shell.execute_reply": "2023-07-10T22:22:32.207804Z"
    },
    "trusted": true
   },
   "execution_count": null,
   "outputs": []
  },
  {
   "cell_type": "code",
   "source": [
    "#overview of new column\n",
    "spotify_tracks['duration_mins']"
   ],
   "metadata": {
    "execution": {
     "iopub.status.busy": "2023-07-10T22:22:45.569Z",
     "iopub.execute_input": "2023-07-10T22:22:45.569368Z",
     "iopub.status.idle": "2023-07-10T22:22:45.578347Z",
     "shell.execute_reply.started": "2023-07-10T22:22:45.569339Z",
     "shell.execute_reply": "2023-07-10T22:22:45.577314Z"
    },
    "trusted": true
   },
   "execution_count": null,
   "outputs": []
  },
  {
   "cell_type": "code",
   "source": [
    "#dropping the columns we don't need\n",
    "spotify_tracks = spotify_tracks.drop(['track_id', 'duration_ms'], axis=1)"
   ],
   "metadata": {
    "execution": {
     "iopub.status.busy": "2023-07-10T22:23:03.773588Z",
     "iopub.execute_input": "2023-07-10T22:23:03.774036Z",
     "iopub.status.idle": "2023-07-10T22:23:03.862608Z",
     "shell.execute_reply.started": "2023-07-10T22:23:03.774003Z",
     "shell.execute_reply": "2023-07-10T22:23:03.861676Z"
    },
    "trusted": true
   },
   "execution_count": null,
   "outputs": []
  },
  {
   "cell_type": "code",
   "source": [
    "#overview of data after dropping and adding of columns\n",
    "spotify_tracks.head()"
   ],
   "metadata": {
    "execution": {
     "iopub.status.busy": "2023-07-10T22:23:20.705494Z",
     "iopub.execute_input": "2023-07-10T22:23:20.705846Z",
     "iopub.status.idle": "2023-07-10T22:23:20.729213Z",
     "shell.execute_reply.started": "2023-07-10T22:23:20.705819Z",
     "shell.execute_reply": "2023-07-10T22:23:20.728144Z"
    },
    "trusted": true
   },
   "execution_count": null,
   "outputs": []
  },
  {
   "cell_type": "code",
   "source": [
    "#creating a new dataframe with features with numeric values\n",
    "attributes = spotify_tracks[['popularity', 'year', 'danceability', 'energy', 'key', 'loudness', 'mode', 'speechiness', 'acousticness', 'instrumentalness', 'liveness', 'valence', 'tempo', 'time_signature', 'duration_mins']]"
   ],
   "metadata": {
    "execution": {
     "iopub.status.busy": "2023-07-10T22:23:38.343422Z",
     "iopub.execute_input": "2023-07-10T22:23:38.343843Z",
     "iopub.status.idle": "2023-07-10T22:23:38.490318Z",
     "shell.execute_reply.started": "2023-07-10T22:23:38.343808Z",
     "shell.execute_reply": "2023-07-10T22:23:38.489351Z"
    },
    "trusted": true
   },
   "execution_count": null,
   "outputs": []
  },
  {
   "cell_type": "code",
   "source": [
    "#correlation of all the features\n",
    "corr_matrix = attributes.corr()\n",
    "\n",
    "corr_matrix['popularity'].sort_values(ascending=False)"
   ],
   "metadata": {
    "execution": {
     "iopub.status.busy": "2023-07-10T22:23:56.247528Z",
     "iopub.execute_input": "2023-07-10T22:23:56.247932Z",
     "iopub.status.idle": "2023-07-10T22:23:57.075343Z",
     "shell.execute_reply.started": "2023-07-10T22:23:56.2479Z",
     "shell.execute_reply": "2023-07-10T22:23:57.074274Z"
    },
    "trusted": true
   },
   "execution_count": null,
   "outputs": []
  },
  {
   "cell_type": "code",
   "source": [
    "#plotting correlation heatmap using seaborn\n",
    "cmap = sns.diverging_palette(230, 20, as_cmap=True)\n",
    "\n",
    "plt.figure(figsize=(15, 10))\n",
    "sns.heatmap(attributes.corr(), annot=True, fmt='.1g', vmin=-1, vmax=1, center=0, cmap=cmap)\n",
    "plt.title(\"Correlation Matrix\", fontweight='bold', fontsize='large')"
   ],
   "metadata": {
    "execution": {
     "iopub.status.busy": "2023-07-10T22:24:24.946544Z",
     "iopub.execute_input": "2023-07-10T22:24:24.946952Z",
     "iopub.status.idle": "2023-07-10T22:24:26.910718Z",
     "shell.execute_reply.started": "2023-07-10T22:24:24.946922Z",
     "shell.execute_reply": "2023-07-10T22:24:26.909903Z"
    },
    "trusted": true
   },
   "execution_count": null,
   "outputs": []
  },
  {
   "cell_type": "code",
   "source": [
    "#identifying highly correlated pairs\n",
    "corr_matrix = attributes.corr()\n",
    "corr_pairs = corr_matrix.unstack()\n",
    "positive_corr = corr_pairs[(corr_pairs >= 0.5) & (corr_pairs < 1)]\n",
    "print(\"Highly Correlated Pairs: \\n\", positive_corr)\n",
    "\n",
    "\n",
    "negative_corr = corr_pairs[(corr_pairs <= -0.5) & (corr_pairs > -1)]\n",
    "print(\"\\nLess Correlated Pairs: \\n\", negative_corr)"
   ],
   "metadata": {
    "execution": {
     "iopub.status.busy": "2023-07-10T22:24:46.147927Z",
     "iopub.execute_input": "2023-07-10T22:24:46.149084Z",
     "iopub.status.idle": "2023-07-10T22:24:46.968908Z",
     "shell.execute_reply.started": "2023-07-10T22:24:46.14904Z",
     "shell.execute_reply": "2023-07-10T22:24:46.967515Z"
    },
    "trusted": true
   },
   "execution_count": null,
   "outputs": []
  },
  {
   "cell_type": "code",
   "source": [
    "#setting ratings based on popularity score - popularity score 0 - 50 = Low, score = 51 - 100 = Popular\n",
    "popularity_verdict = spotify_tracks.copy()\n",
    "popularity_verdict['verdict'] = ''\n",
    "\n",
    "for i, row in popularity_verdict.iterrows():\n",
    "    score = 'low'\n",
    "    if row.popularity >= 50:\n",
    "        score = 'popular'\n",
    "    popularity_verdict.at[i, 'verdict'] = score\n",
    "    "
   ],
   "metadata": {
    "execution": {
     "iopub.status.busy": "2023-07-10T22:25:01.089749Z",
     "iopub.execute_input": "2023-07-10T22:25:01.090123Z",
     "iopub.status.idle": "2023-07-10T22:26:38.167095Z",
     "shell.execute_reply.started": "2023-07-10T22:25:01.090093Z",
     "shell.execute_reply": "2023-07-10T22:26:38.166009Z"
    },
    "trusted": true
   },
   "execution_count": null,
   "outputs": []
  },
  {
   "cell_type": "code",
   "source": [
    "#getting sense of new dataframe by looking at few columns\n",
    "popularity_verdict[['artist_name', 'track_name', 'popularity', 'verdict']].head()"
   ],
   "metadata": {
    "execution": {
     "iopub.status.busy": "2023-07-10T22:27:47.838705Z",
     "iopub.execute_input": "2023-07-10T22:27:47.83906Z",
     "iopub.status.idle": "2023-07-10T22:27:47.884678Z",
     "shell.execute_reply.started": "2023-07-10T22:27:47.839032Z",
     "shell.execute_reply": "2023-07-10T22:27:47.88367Z"
    },
    "trusted": true
   },
   "execution_count": null,
   "outputs": []
  },
  {
   "cell_type": "code",
   "source": [
    "#counting popularity score values\n",
    "popularity_verdict[['popularity']].value_counts()"
   ],
   "metadata": {
    "execution": {
     "iopub.status.busy": "2023-07-10T22:28:06.870741Z",
     "iopub.execute_input": "2023-07-10T22:28:06.871116Z",
     "iopub.status.idle": "2023-07-10T22:28:06.913536Z",
     "shell.execute_reply.started": "2023-07-10T22:28:06.871087Z",
     "shell.execute_reply": "2023-07-10T22:28:06.912611Z"
    },
    "trusted": true
   },
   "execution_count": null,
   "outputs": []
  },
  {
   "cell_type": "code",
   "source": [
    "#printing number of songs with popularity score = 0\n",
    "print('Number of songs with 0 as popularity value: ', len(popularity_verdict[popularity_verdict.popularity == 0]))\n"
   ],
   "metadata": {
    "execution": {
     "iopub.status.busy": "2023-07-10T22:28:25.179099Z",
     "iopub.execute_input": "2023-07-10T22:28:25.179472Z",
     "iopub.status.idle": "2023-07-10T22:28:25.213492Z",
     "shell.execute_reply.started": "2023-07-10T22:28:25.179443Z",
     "shell.execute_reply": "2023-07-10T22:28:25.212341Z"
    },
    "trusted": true
   },
   "execution_count": null,
   "outputs": []
  },
  {
   "cell_type": "code",
   "source": [
    "#printing percentage of songs with 0 popularity score\n",
    "print('Percent of data with a popularity of 0: {0:.2f}%'.format\\\n",
    "      (len(popularity_verdict[popularity_verdict.popularity == 0]) / len(popularity_verdict) * 100))"
   ],
   "metadata": {
    "execution": {
     "iopub.status.busy": "2023-07-10T22:28:37.827844Z",
     "iopub.execute_input": "2023-07-10T22:28:37.828244Z",
     "iopub.status.idle": "2023-07-10T22:28:37.857739Z",
     "shell.execute_reply.started": "2023-07-10T22:28:37.828219Z",
     "shell.execute_reply": "2023-07-10T22:28:37.856655Z"
    },
    "trusted": true
   },
   "execution_count": null,
   "outputs": []
  },
  {
   "cell_type": "code",
   "source": [
    "#sorting the data based on descending popularity\n",
    "popularity_verdict = popularity_verdict.sort_values('popularity', ascending=False).reset_index()"
   ],
   "metadata": {
    "execution": {
     "iopub.status.busy": "2023-07-10T22:28:54.109891Z",
     "iopub.execute_input": "2023-07-10T22:28:54.110292Z",
     "iopub.status.idle": "2023-07-10T22:28:54.795003Z",
     "shell.execute_reply.started": "2023-07-10T22:28:54.110259Z",
     "shell.execute_reply": "2023-07-10T22:28:54.79416Z"
    },
    "trusted": true
   },
   "execution_count": null,
   "outputs": []
  },
  {
   "cell_type": "code",
   "source": [
    "#last 5 records\n",
    "popularity_verdict.tail()"
   ],
   "metadata": {
    "execution": {
     "iopub.status.busy": "2023-07-10T22:29:09.440048Z",
     "iopub.execute_input": "2023-07-10T22:29:09.440443Z",
     "iopub.status.idle": "2023-07-10T22:29:09.465881Z",
     "shell.execute_reply.started": "2023-07-10T22:29:09.440413Z",
     "shell.execute_reply": "2023-07-10T22:29:09.464695Z"
    },
    "trusted": true
   },
   "execution_count": null,
   "outputs": []
  },
  {
   "cell_type": "code",
   "source": [
    "#as almost 15% of entries have 0 popularity score, we drop the records with 0 popularity score as this will help\n",
    "#model in predicting better. 0 value records will not have significance in our analysis.\n",
    "popularity_verdict = popularity_verdict[popularity_verdict.popularity > 0]\n",
    "\n",
    "#last 5 records with popularity score = 1, hence records with popularity score = 0 are dropped\n",
    "popularity_verdict.tail()"
   ],
   "metadata": {
    "execution": {
     "iopub.status.busy": "2023-07-10T22:29:40.649262Z",
     "iopub.execute_input": "2023-07-10T22:29:40.650161Z",
     "iopub.status.idle": "2023-07-10T22:29:40.877472Z",
     "shell.execute_reply.started": "2023-07-10T22:29:40.650122Z",
     "shell.execute_reply": "2023-07-10T22:29:40.87603Z"
    },
    "trusted": true
   },
   "execution_count": null,
   "outputs": []
  },
  {
   "cell_type": "code",
   "source": [
    "#plotting histogram for popularity score distribution\n",
    "popularity_verdict['popularity'].plot(kind='hist', bins=50)\n",
    "plt.xlabel('Popularity Score')\n",
    "plt.ylabel('Number of Songs')\n",
    "plt.title('Popularity Score Distribution')\n"
   ],
   "metadata": {
    "execution": {
     "iopub.status.busy": "2023-07-10T22:29:56.517563Z",
     "iopub.execute_input": "2023-07-10T22:29:56.518645Z",
     "iopub.status.idle": "2023-07-10T22:29:56.983846Z",
     "shell.execute_reply.started": "2023-07-10T22:29:56.518586Z",
     "shell.execute_reply": "2023-07-10T22:29:56.982983Z"
    },
    "trusted": true
   },
   "execution_count": null,
   "outputs": []
  },
  {
   "cell_type": "code",
   "source": [
    "#popularity vs loudness scatterplot\n",
    "fig, ax = plt.subplots(figsize= (15, 10))\n",
    "sns.scatterplot(data = popularity_verdict, x = 'popularity', y = 'loudness', hue = 'verdict', size = 'verdict', sizes = (20, 200), legend = 'full')"
   ],
   "metadata": {
    "execution": {
     "iopub.status.busy": "2023-07-10T22:30:16.445839Z",
     "iopub.execute_input": "2023-07-10T22:30:16.44619Z",
     "iopub.status.idle": "2023-07-10T22:31:14.022701Z",
     "shell.execute_reply.started": "2023-07-10T22:30:16.446162Z",
     "shell.execute_reply": "2023-07-10T22:31:14.021688Z"
    },
    "trusted": true
   },
   "execution_count": null,
   "outputs": []
  },
  {
   "cell_type": "code",
   "source": [
    "#popularity vs danceability scatter plot\n",
    "fig, ax = plt.subplots(figsize= (15, 10))\n",
    "sns.scatterplot(data = popularity_verdict, x = 'popularity', y = 'danceability', hue = 'verdict', size = 'verdict', sizes = (20, 200), legend = 'full')"
   ],
   "metadata": {
    "execution": {
     "iopub.status.busy": "2023-07-10T22:31:23.114664Z",
     "iopub.execute_input": "2023-07-10T22:31:23.115062Z",
     "iopub.status.idle": "2023-07-10T22:32:21.923686Z",
     "shell.execute_reply.started": "2023-07-10T22:31:23.115033Z",
     "shell.execute_reply": "2023-07-10T22:32:21.922155Z"
    },
    "trusted": true
   },
   "execution_count": null,
   "outputs": []
  },
  {
   "cell_type": "code",
   "source": [
    "pop_ver_att = popularity_verdict[['year', 'danceability', 'energy', 'key', 'loudness', 'mode', 'speechiness', 'acousticness', 'instrumentalness', 'liveness', 'valence', 'tempo', 'time_signature', 'duration_mins']]"
   ],
   "metadata": {
    "execution": {
     "iopub.status.busy": "2023-07-10T22:32:28.599636Z",
     "iopub.execute_input": "2023-07-10T22:32:28.600038Z",
     "iopub.status.idle": "2023-07-10T22:32:28.629053Z",
     "shell.execute_reply.started": "2023-07-10T22:32:28.600006Z",
     "shell.execute_reply": "2023-07-10T22:32:28.627639Z"
    },
    "trusted": true
   },
   "execution_count": null,
   "outputs": []
  },
  {
   "cell_type": "code",
   "source": [
    "#defining x and y df for our analysis\n",
    "X = pop_ver_att.select_dtypes(include='number')\n",
    "y = popularity_verdict['verdict']"
   ],
   "metadata": {
    "execution": {
     "iopub.status.busy": "2023-07-10T22:32:42.202326Z",
     "iopub.execute_input": "2023-07-10T22:32:42.203212Z",
     "iopub.status.idle": "2023-07-10T22:32:42.25012Z",
     "shell.execute_reply.started": "2023-07-10T22:32:42.20316Z",
     "shell.execute_reply": "2023-07-10T22:32:42.248966Z"
    },
    "trusted": true
   },
   "execution_count": null,
   "outputs": []
  },
  {
   "cell_type": "code",
   "source": [
    "X.head()"
   ],
   "metadata": {
    "execution": {
     "iopub.status.busy": "2023-07-10T22:32:54.937158Z",
     "iopub.execute_input": "2023-07-10T22:32:54.937575Z",
     "iopub.status.idle": "2023-07-10T22:32:54.961508Z",
     "shell.execute_reply.started": "2023-07-10T22:32:54.937543Z",
     "shell.execute_reply": "2023-07-10T22:32:54.960158Z"
    },
    "trusted": true
   },
   "execution_count": null,
   "outputs": []
  },
  {
   "cell_type": "code",
   "source": [
    "y.head()"
   ],
   "metadata": {
    "execution": {
     "iopub.status.busy": "2023-07-10T22:33:05.611422Z",
     "iopub.execute_input": "2023-07-10T22:33:05.611825Z",
     "iopub.status.idle": "2023-07-10T22:33:05.619004Z",
     "shell.execute_reply.started": "2023-07-10T22:33:05.61179Z",
     "shell.execute_reply": "2023-07-10T22:33:05.618168Z"
    },
    "trusted": true
   },
   "execution_count": null,
   "outputs": []
  },
  {
   "cell_type": "code",
   "source": [
    "#getting ready for ml using Sci-kit learn\n",
    "from sklearn.model_selection import train_test_split\n",
    "from sklearn.preprocessing import StandardScaler\n",
    "scaler = StandardScaler()\n",
    "model_X = scaler.fit(X)\n",
    "X_scaled = model_X.transform(X)\n",
    "\n",
    "X_train, X_test, y_train, y_test = train_test_split (X_scaled, y, random_state=42, test_size=0.3, shuffle=True)\n"
   ],
   "metadata": {
    "execution": {
     "iopub.status.busy": "2023-07-10T22:33:34.686205Z",
     "iopub.execute_input": "2023-07-10T22:33:34.686702Z",
     "iopub.status.idle": "2023-07-10T22:33:35.287834Z",
     "shell.execute_reply.started": "2023-07-10T22:33:34.686658Z",
     "shell.execute_reply": "2023-07-10T22:33:35.286671Z"
    },
    "trusted": true
   },
   "execution_count": null,
   "outputs": []
  },
  {
   "cell_type": "markdown",
   "source": [
    "Logistic Regression"
   ],
   "metadata": {}
  },
  {
   "cell_type": "code",
   "source": [
    "#importing necessary libraries to perform logistic regression\n",
    "from sklearn import datasets, linear_model, metrics\n",
    "\n",
    "log_reg = linear_model.LogisticRegression(solver = 'lbfgs', max_iter = 1000)\n",
    "\n",
    "#train the model using training set\n",
    "log_reg.fit(X_train, y_train)\n",
    "\n",
    "#making predictions on the testing set\n",
    "y_pred = log_reg.predict(X_test)\n",
    "\n",
    "#printing accuracy of algorithm\n",
    "print(\"Logistic Regression Model Accuracy (in %):\",\n",
    "metrics.accuracy_score(y_test, y_pred) * 100)\n",
    "\n",
    "\n"
   ],
   "metadata": {
    "execution": {
     "iopub.status.busy": "2023-07-10T22:34:18.763307Z",
     "iopub.execute_input": "2023-07-10T22:34:18.763667Z",
     "iopub.status.idle": "2023-07-10T22:34:25.157108Z",
     "shell.execute_reply.started": "2023-07-10T22:34:18.76364Z",
     "shell.execute_reply": "2023-07-10T22:34:25.155928Z"
    },
    "trusted": true
   },
   "execution_count": null,
   "outputs": []
  },
  {
   "cell_type": "code",
   "source": [
    "#importing confusion matrix and classification report\n",
    "from sklearn.metrics import classification_report, confusion_matrix\n",
    "\n",
    "#printing confusion matrix and classification report\n",
    "print(confusion_matrix(y_test, y_pred))\n",
    "print(classification_report(y_test, y_pred))"
   ],
   "metadata": {
    "execution": {
     "iopub.status.busy": "2023-07-10T22:35:22.192375Z",
     "iopub.execute_input": "2023-07-10T22:35:22.193413Z",
     "iopub.status.idle": "2023-07-10T22:35:52.890679Z",
     "shell.execute_reply.started": "2023-07-10T22:35:22.193371Z",
     "shell.execute_reply": "2023-07-10T22:35:52.889851Z"
    },
    "trusted": true
   },
   "execution_count": null,
   "outputs": []
  },
  {
   "cell_type": "markdown",
   "source": [
    "**K Nearest Neighbors**"
   ],
   "metadata": {}
  },
  {
   "cell_type": "code",
   "source": [
    "from sklearn.neighbors import KNeighborsClassifier\n",
    "\n",
    "knn = KNeighborsClassifier(n_neighbors=1)\n",
    "knn.fit(X_train, y_train)\n",
    "pred = knn.predict(X_test)\n",
    "\n",
    "#printing confusion matrix and classification report\n",
    "print(confusion_matrix(y_test, pred))\n",
    "print(classification_report(y_test, pred))"
   ],
   "metadata": {
    "execution": {
     "iopub.status.busy": "2023-07-10T22:36:22.758937Z",
     "iopub.execute_input": "2023-07-10T22:36:22.759364Z",
     "iopub.status.idle": "2023-07-10T22:54:09.021996Z",
     "shell.execute_reply.started": "2023-07-10T22:36:22.759331Z",
     "shell.execute_reply": "2023-07-10T22:54:09.020797Z"
    },
    "trusted": true
   },
   "execution_count": null,
   "outputs": []
  },
  {
   "cell_type": "code",
   "source": [
    "#printing accuracy of algorithm\n",
    "print(\"KNN Model Accuracy (in %):\",\n",
    "metrics.accuracy_score(y_test, pred) * 100)"
   ],
   "metadata": {
    "execution": {
     "iopub.status.busy": "2023-07-10T22:55:05.339354Z",
     "iopub.execute_input": "2023-07-10T22:55:05.339779Z",
     "iopub.status.idle": "2023-07-10T22:55:06.805542Z",
     "shell.execute_reply.started": "2023-07-10T22:55:05.339745Z",
     "shell.execute_reply": "2023-07-10T22:55:06.804709Z"
    },
    "trusted": true
   },
   "execution_count": null,
   "outputs": []
  },
  {
   "cell_type": "markdown",
   "source": [
    "**Random Forest**"
   ],
   "metadata": {}
  },
  {
   "cell_type": "code",
   "source": [
    "from sklearn.ensemble import RandomForestClassifier\n",
    "\n",
    "rforest = RandomForestClassifier(n_estimators = 100)\n",
    "\n",
    "rforest.fit(X_train, y_train)\n",
    "\n",
    "y_pred = rforest.predict(X_test)\n",
    "\n",
    "#printing confusion matrix and classification report\n",
    "print(confusion_matrix(y_test, y_pred))\n",
    "print(classification_report(y_test, y_pred))\n",
    "\n"
   ],
   "metadata": {
    "execution": {
     "iopub.status.busy": "2023-07-10T22:55:39.057957Z",
     "iopub.execute_input": "2023-07-10T22:55:39.058403Z",
     "iopub.status.idle": "2023-07-10T23:01:55.70395Z",
     "shell.execute_reply.started": "2023-07-10T22:55:39.058368Z",
     "shell.execute_reply": "2023-07-10T23:01:55.702634Z"
    },
    "trusted": true
   },
   "execution_count": null,
   "outputs": []
  },
  {
   "cell_type": "code",
   "source": [
    "#printing accuracy of algorithm\n",
    "print(\"Random Forest Model Accuracy (in %):\",\n",
    "metrics.accuracy_score(y_test, y_pred) * 100)"
   ],
   "metadata": {
    "execution": {
     "iopub.status.busy": "2023-07-10T23:08:23.133018Z",
     "iopub.execute_input": "2023-07-10T23:08:23.133427Z",
     "iopub.status.idle": "2023-07-10T23:08:24.631794Z",
     "shell.execute_reply.started": "2023-07-10T23:08:23.133394Z",
     "shell.execute_reply": "2023-07-10T23:08:24.630511Z"
    },
    "trusted": true
   },
   "execution_count": null,
   "outputs": []
  },
  {
   "cell_type": "markdown",
   "source": [
    "**Decision Tree**"
   ],
   "metadata": {}
  },
  {
   "cell_type": "code",
   "source": [
    "from sklearn.tree import DecisionTreeClassifier\n",
    "\n",
    "d_tree = DecisionTreeClassifier(random_state=42, max_depth=2)\n",
    "\n",
    "d_tree.fit(X_train, y_train)\n",
    "\n",
    "y_pred = d_tree.predict(X_test)"
   ],
   "metadata": {
    "execution": {
     "iopub.status.busy": "2023-07-10T23:08:52.313691Z",
     "iopub.execute_input": "2023-07-10T23:08:52.314087Z",
     "iopub.status.idle": "2023-07-10T23:08:57.048779Z",
     "shell.execute_reply.started": "2023-07-10T23:08:52.314058Z",
     "shell.execute_reply": "2023-07-10T23:08:57.047508Z"
    },
    "trusted": true
   },
   "execution_count": null,
   "outputs": []
  },
  {
   "cell_type": "code",
   "source": [
    "#printing confusion matrix and classification report\n",
    "print(confusion_matrix(y_test, y_pred))\n",
    "print(classification_report(y_test, y_pred))"
   ],
   "metadata": {
    "execution": {
     "iopub.status.busy": "2023-07-10T23:11:02.501896Z",
     "iopub.execute_input": "2023-07-10T23:11:02.502318Z",
     "iopub.status.idle": "2023-07-10T23:11:33.726077Z",
     "shell.execute_reply.started": "2023-07-10T23:11:02.502284Z",
     "shell.execute_reply": "2023-07-10T23:11:33.724964Z"
    },
    "trusted": true
   },
   "execution_count": null,
   "outputs": []
  },
  {
   "cell_type": "code",
   "source": [
    "#printing accuracy of algorithm\n",
    "print(\"Decsision Tree Model Accuracy (in %):\",\n",
    "metrics.accuracy_score(y_test, y_pred) * 100)"
   ],
   "metadata": {
    "execution": {
     "iopub.status.busy": "2023-07-10T23:11:36.715676Z",
     "iopub.execute_input": "2023-07-10T23:11:36.716029Z",
     "iopub.status.idle": "2023-07-10T23:11:38.190713Z",
     "shell.execute_reply.started": "2023-07-10T23:11:36.715998Z",
     "shell.execute_reply": "2023-07-10T23:11:38.189626Z"
    },
    "trusted": true
   },
   "execution_count": null,
   "outputs": []
  }
 ]
}
