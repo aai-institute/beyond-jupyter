{
 "cells": [
  {
   "cell_type": "markdown",
   "source": [
    "# Taking Things Further with scikit-learn Pipelines"
   ],
   "metadata": {
    "collapsed": false
   },
   "id": "d89ff99bad9f1f3a"
  },
  {
   "cell_type": "markdown",
   "source": [
    "The pipelines we presented in this step are extremely simple, as they apply the same transformations to all features. Consequently, the models were limited to the set of features to which these transformations could be applied.\n",
    "In order to support a greater set of features in our models, we would need to apply different transformations to different features.\n",
    "\n",
    "In this notebook, we shall briefly explore ways of doing this."
   ],
   "metadata": {
    "collapsed": false
   },
   "id": "598c79eb2e75854a"
  },
  {
   "cell_type": "markdown",
   "source": [
    "## Differentiating between Categorical and Numerical Features\n",
    "\n",
    "As a first step, let us add support for categorical features, which we shall encode using one-hot encoding, alongside numerical features, to which we shall apply standard scaling.\n",
    "\n",
    "We use an indicator function `is_categorical` which allows us to differentiate the two types of features."
   ],
   "metadata": {
    "collapsed": false
   },
   "id": "3f0b51661f915c3e"
  },
  {
   "cell_type": "code",
   "outputs": [],
   "source": [
    "from dataclasses import dataclass\n",
    "from enum import Enum\n",
    "\n",
    "from sklearn.compose import ColumnTransformer\n",
    "from sklearn.ensemble import RandomForestClassifier\n",
    "from sklearn.pipeline import Pipeline\n",
    "from sklearn.preprocessing import OneHotEncoder, StandardScaler, MaxAbsScaler\n",
    "\n",
    "from songpop.data import COLS_MUSICAL_CATEGORIES\n",
    "\n",
    "\n",
    "def is_categorical(feature: str):\n",
    "    return feature in COLS_MUSICAL_CATEGORIES \n",
    "\n",
    "\n",
    "def create_random_forest_pipeline(features: list[str]):\n",
    "    return Pipeline([\n",
    "        ('preprocess', ColumnTransformer([\n",
    "            (\"cat\", OneHotEncoder(), [feature for feature in features if is_categorical(feature)]),\n",
    "            (\"num\", StandardScaler(), [feature for feature in features if not is_categorical(feature)])])),\n",
    "        ('classifier', RandomForestClassifier())])"
   ],
   "metadata": {
    "collapsed": false,
    "ExecuteTime": {
     "end_time": "2024-06-19T12:52:54.435043100Z",
     "start_time": "2024-06-19T12:52:51.455805300Z"
    }
   },
   "id": "8d352e9ef6fc5638",
   "execution_count": 1
  },
  {
   "cell_type": "markdown",
   "source": [
    "## Adding Support for Different Scaling Transformations of Numerical Features\n",
    "\n",
    "In practice, it is, however, not usually reasonable to apply the same scaling transformation to all numerical features. How could we address this?\n",
    "\n",
    "Frequently, the way in which a feature shall be transformed is inherent to the feature semantics, and upon having analyzed the nature of a feature, the choice of transformation becomes clear. Therefore, what is needed is really an explicit representation of a feature, which includes information on how to transform it. A very naive attempt at this could look like this: "
   ],
   "metadata": {
    "collapsed": false
   },
   "id": "24130c901bf2f5e9"
  },
  {
   "cell_type": "code",
   "outputs": [],
   "source": [
    "class FeatureTransformationType(Enum):\n",
    "    NONE = 0\n",
    "    ONE_HOT_ENCODING = 1\n",
    "    STANDARD_SCALER = 2\n",
    "    MAX_ABS_SCALER = 3\n",
    "\n",
    "\n",
    "@dataclass\n",
    "class Feature:\n",
    "    col_name: str\n",
    "    feature_transformation_type: FeatureTransformationType\n",
    "\n",
    "\n",
    "def create_random_forest_pipeline(features: list[Feature]):\n",
    "    features_none = [f.col_name for f in features if f.feature_transformation_type == FeatureTransformationType.NONE]\n",
    "    features_one_hot = [f.col_name for f in features if f.feature_transformation_type == FeatureTransformationType.ONE_HOT_ENCODING]\n",
    "    features_num_std = [f.col_name for f in features if f.feature_transformation_type == FeatureTransformationType.STANDARD_SCALER]\n",
    "    features_num_abs = [f.col_name for f in features if f.feature_transformation_type == FeatureTransformationType.MAX_ABS_SCALER]\n",
    "    return Pipeline([\n",
    "        ('preprocess', ColumnTransformer([\n",
    "            (\"id\", \"passthrough\", features_none),\n",
    "            (\"one_hot\", OneHotEncoder(), features_one_hot),\n",
    "            (\"num_std\", StandardScaler(), features_num_std),\n",
    "            (\"num_abs\", MaxAbsScaler(), features_num_abs)])),\n",
    "        ('classifier', RandomForestClassifier())])"
   ],
   "metadata": {
    "collapsed": false,
    "ExecuteTime": {
     "end_time": "2024-06-19T12:52:54.469264400Z",
     "start_time": "2024-06-19T12:52:54.444572600Z"
    }
   },
   "id": "9c42e4b55b32ec7e",
   "execution_count": 2
  },
  {
   "cell_type": "markdown",
   "source": [
    "A more sophisticated approach would involve a representation of each feature that is itself a transformer. This adds flexibility and allows for a more fine-grained control over the transformations applied to each feature.\n",
    "\n",
    "In the following, we will, however, use the concepts of the library sensAI instead. sensAI builds upon scikit-learn concepts, using strictly object-oriented design and a higher level of abstraction (see subsequent steps in the journey). "
   ],
   "metadata": {
    "collapsed": false
   },
   "id": "b70dba814dcf5da0"
  }
 ],
 "metadata": {
  "kernelspec": {
   "display_name": "Python 3",
   "language": "python",
   "name": "python3"
  },
  "language_info": {
   "codemirror_mode": {
    "name": "ipython",
    "version": 2
   },
   "file_extension": ".py",
   "mimetype": "text/x-python",
   "name": "python",
   "nbconvert_exporter": "python",
   "pygments_lexer": "ipython2",
   "version": "2.7.6"
  }
 },
 "nbformat": 4,
 "nbformat_minor": 5
}
